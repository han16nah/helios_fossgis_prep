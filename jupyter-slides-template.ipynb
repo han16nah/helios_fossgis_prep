{
 "cells": [
  {
   "cell_type": "markdown",
   "id": "8f5068e9",
   "metadata": {
    "slideshow": {
     "slide_type": "slide"
    }
   },
   "source": [
    "# HELIOS++ Workshop Vorbereitung\n",
    "\n",
    "- Automatisch generiert aus diesem [jupyter notebook](https://github.com/han16nah/helios_fossgis_prep/blob/master/jupyter-slides-template.ipynb)\n",
    "- Drücke `Leertaste` oder nach `Rechts` um zur nächsten Seite zu gelangen\n",
    "- Drücke `Escape` zum Verkleinern"
   ]
  },
  {
   "cell_type": "markdown",
   "id": "84f8fe7b",
   "metadata": {
    "slideshow": {
     "slide_type": "slide"
    }
   },
   "source": [
    "## HELIOS++ herunterladen\n"
   ]
  },
  {
   "cell_type": "markdown",
   "id": "18540280",
   "metadata": {
    "slideshow": {
     "slide_type": "fragment"
    }
   },
   "source": [
    "Wir haben eine extra release für die FOSSGIS vorbereitet. Wähle unten den Download Link für dein Betriebssystem.\n",
    "\n",
    "- [HELIOS++ für Windows]()\n",
    "- [HELIOS++ f+r Linux]()"
   ]
  },
  {
   "cell_type": "markdown",
   "id": "71396090",
   "metadata": {
    "slideshow": {
     "slide_type": "fragment"
    }
   },
   "source": [
    "Entpacke den Ordner."
   ]
  },
  {
   "cell_type": "markdown",
   "id": "eba1a656",
   "metadata": {
    "slideshow": {
     "slide_type": "slide"
    }
   },
   "source": [
    "## Conda-Umgebung aufsetzen\n"
   ]
  },
  {
   "cell_type": "markdown",
   "id": "ea3b5660",
   "metadata": {
    "slideshow": {
     "slide_type": "fragment"
    }
   },
   "source": [
    "Wir nutzen Anaconda, um Pakete zu installieren und Umgebungen zu verwalten. Wenn du bisher noch nicht mit Anaconda gearbeitet hast, lade Anaconda herunter:\n",
    "\n",
    "- (Anaconda Individual Edition)[https://www.anaconda.com/products/individual]"
   ]
  },
  {
   "cell_type": "markdown",
   "id": "2f8bc2a3",
   "metadata": {
    "slideshow": {
     "slide_type": "fragment"
    }
   },
   "source": [
    "Öffne nun eine neue \"Anaconda prompt\". Navigiere in den `helios`-Ordner, den du vorher heruntergeladen hast. Hier findest du eine .yml-Datei, mit der du die nötigen Pakete in eine Umgebung `fossgis_pyhelios_env.yml` laden kannst.\n",
    "\n",
    "`conda env create -f fossgis_pyhelios_env.yml`"
   ]
  },
  {
   "cell_type": "markdown",
   "id": "86d1f4d3",
   "metadata": {
    "slideshow": {
     "slide_type": "fragment"
    }
   },
   "source": [
    "Nun musst du die Umgebung noch aktivieren:\n",
    "\n",
    "`conda activate fossgis_pyhelios_env`"
   ]
  },
  {
   "cell_type": "markdown",
   "id": "73a7cfdb",
   "metadata": {
    "slideshow": {
     "slide_type": "slide"
    }
   },
   "source": [
    "## Installationen testen"
   ]
  },
  {
   "cell_type": "markdown",
   "id": "3bd0414f",
   "metadata": {
    "slideshow": {
     "slide_type": "fragment"
    }
   },
   "source": [
    "[...]"
   ]
  },
  {
   "cell_type": "markdown",
   "id": "cf02abaa",
   "metadata": {
    "slideshow": {
     "slide_type": "slide"
    }
   },
   "source": [
    "## Mehr Informationen\n",
    "\n",
    "- [Website](https://www.geog.uni-heidelberg.de/gis/helios.html)\n",
    "- [GitHub Repository](https://github.com/3dgeo-heidelberg/helios)\n",
    "- [Publikation](https://doi.org/10.1016/j.rse.2021.112772)"
   ]
  }
 ],
 "metadata": {
  "celltoolbar": "Slideshow",
  "kernelspec": {
   "display_name": "Python 3",
   "language": "python",
   "name": "python3"
  },
  "language_info": {
   "codemirror_mode": {
    "name": "ipython",
    "version": 3
   },
   "file_extension": ".py",
   "mimetype": "text/x-python",
   "name": "python",
   "nbconvert_exporter": "python",
   "pygments_lexer": "ipython3",
   "version": "3.8.5"
  }
 },
 "nbformat": 4,
 "nbformat_minor": 5
}
