{
 "cells": [
  {
   "cell_type": "markdown",
   "metadata": {
    "slideshow": {
     "slide_type": "slide"
    }
   },
   "source": [
    "# HELIOS++ Workshop Vorbereitung\n",
    "\n",
    "- Automatisch generiert aus diesem [jupyter notebook](https://github.com/han16nah/helios_fossgis_prep/blob/master/jupyter-slides-template.ipynb)\n",
    "- Drücke `Leertaste` oder nach `Rechts` um zur nächsten Seite zu gelangen\n",
    "- Drücke `Escape` zum Verkleinern"
   ]
  },
  {
   "cell_type": "markdown",
   "metadata": {
    "slideshow": {
     "slide_type": "slide"
    }
   },
   "source": [
    "## HELIOS++ herunterladen\n"
   ]
  },
  {
   "cell_type": "markdown",
   "metadata": {
    "slideshow": {
     "slide_type": "fragment"
    }
   },
   "source": [
    "Wir haben eine extra release für die FOSSGIS vorbereitet. Wähle unten den Download Link für dein Betriebssystem.\n",
    "\n",
    "- [HELIOS++ für Windows]()\n",
    "- [HELIOS++ f+r Linux]()"
   ]
  },
  {
   "cell_type": "code",
   "execution_count": null,
   "metadata": {
    "slideshow": {
     "slide_type": "fragment"
    }
   },
   "outputs": [],
   "source": [
    "Entpacke den Ordner."
   ]
  },
  {
   "cell_type": "markdown",
   "metadata": {
    "slideshow": {
     "slide_type": "slide"
    }
   },
   "source": [
    "## Conda-Umgebung aufsetzen\n"
   ]
  },
  {
   "cell_type": "markdown",
   "metadata": {
    "slideshow": {
     "slide_type": "fragment"
    }
   },
   "source": [
    "Wir nutzen Anaconda, um Pakete zu installieren und Umgebungen zu verwalten. Wenn du bisher noch nicht mit Anaconda gearbeitet hast, lade Anaconda herunter:\n",
    "\n",
    "- (Anaconda Individual Edition)[https://www.anaconda.com/products/individual]"
   ]
  },
  {
   "cell_type": "markdown",
   "metadata": {
    "slideshow": {
     "slide_type": "fragment"
    }
   },
   "source": [
    "Öffne nun eine neue \"Anaconda prompt\". Navigiere in den `helios`-Ordner, den du vorher heruntergeladen hast. Hier findest du eine .yml-Datei, mit der du die nötigen Pakete in eine Umgebung `fossgis_pyhelios_env.yml` laden kannst.\n",
    "\n",
    "`conda env create -f fossgis_pyhelios_env.yml`"
   ]
  },
  {
   "cell_type": "markdown",
   "metadata": {
    "slideshow": {
     "slide_type": "fragment"
    }
   },
   "source": [
    "Nun musst du die Umgebung noch aktivieren:\n",
    "\n",
    "`conda activate fossgis_pyhelios_env`"
   ]
  },
  {
   "cell_type": "markdown",
   "metadata": {
    "slideshow": {
     "slide_type": "slide"
    }
   },
   "source": [
    "## Installationen testen"
   ]
  },
  {
   "cell_type": "markdown",
   "metadata": {
    "slideshow": {
     "slide_type": "fragment"
    }
   },
   "source": [
    "[...]"
   ]
  },
  {
   "cell_type": "markdown",
   "metadata": {
    "slideshow": {
     "slide_type": "slide"
    }
   },
   "source": [
    "## Mehr Informationen\n",
    "\n",
    "- [Website](https://www.geog.uni-heidelberg.de/gis/helios.html)\n",
    "- [GitHub Repository](https://github.com/3dgeo-heidelberg/helios)\n",
    "- [Publikation](https://doi.org/10.1016/j.rse.2021.112772)"
   ]
  }
 ],
 "metadata": {
  "celltoolbar": "Slideshow",
  "kernelspec": {
   "display_name": "Python 3",
   "language": "python",
   "name": "python3"
  },
  "language_info": {
   "codemirror_mode": {
    "name": "ipython",
    "version": 3
   },
   "file_extension": ".py",
   "mimetype": "text/x-python",
   "name": "python",
   "nbconvert_exporter": "python",
   "pygments_lexer": "ipython3",
   "version": "3.8.5"
  }
 },
 "nbformat": 4,
 "nbformat_minor": 5
}
