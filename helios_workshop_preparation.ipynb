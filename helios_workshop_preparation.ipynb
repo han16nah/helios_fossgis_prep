{
 "cells": [
  {
   "cell_type": "markdown",
   "id": "ff1240a9",
   "metadata": {
    "slideshow": {
     "slide_type": "slide"
    }
   },
   "source": [
    "# HELIOS++ Workshop Vorbereitung\n",
    "\n",
    "<img src=\"https://github.com/han16nah/helios_fossgis_prep/blob/master/images/h%2B%2B_bk_%2B%2Bs.png\" height=10 />\n",
    "\n",
    "![Logo](https://github.com/han16nah/helios_fossgis_prep/blob/master/images/h%2B%2B_bk_%2B%2Bs.png)\n",
    "\n",
    "\n",
    "- Drücke `Leertaste` oder nach `Rechts` um zur nächsten Seite zu gelangen\n",
    "- Drücke `Escape` zum Verkleinern"
   ]
  },
  {
   "cell_type": "markdown",
   "id": "ffa62f96",
   "metadata": {
    "slideshow": {
     "slide_type": "slide"
    }
   },
   "source": [
    "## HELIOS++ herunterladen\n"
   ]
  },
  {
   "cell_type": "markdown",
   "id": "64145b1b",
   "metadata": {
    "slideshow": {
     "slide_type": "fragment"
    }
   },
   "source": [
    "Wir haben eine extra Release für die FOSSGIS vorbereitet. Wähle unten den Download Link für dein Betriebssystem.\n",
    "\n",
    "- [HELIOS++ für Windows]()\n",
    "- [HELIOS++ für Linux]()"
   ]
  },
  {
   "cell_type": "markdown",
   "id": "42f04d40",
   "metadata": {
    "slideshow": {
     "slide_type": "fragment"
    }
   },
   "source": [
    "Entpacke den Ordner."
   ]
  },
  {
   "cell_type": "markdown",
   "id": "38885b8a",
   "metadata": {
    "slideshow": {
     "slide_type": "slide"
    }
   },
   "source": [
    "## Conda-Umgebung aufsetzen\n"
   ]
  },
  {
   "cell_type": "markdown",
   "id": "1c0d1b83",
   "metadata": {
    "slideshow": {
     "slide_type": "fragment"
    }
   },
   "source": [
    "Wir nutzen Anaconda, um Pakete zu installieren und Umgebungen zu verwalten. Wenn du bisher noch nicht mit Anaconda gearbeitet hast, lade Anaconda herunter:\n",
    "\n",
    "- [Anaconda Individual Edition](https://www.anaconda.com/products/individual)"
   ]
  },
  {
   "cell_type": "markdown",
   "id": "a48d858c",
   "metadata": {
    "slideshow": {
     "slide_type": "fragment"
    }
   },
   "source": [
    "Öffne nun eine neue \"Anaconda prompt\". Navigiere in den `helios`-Ordner, den du vorher heruntergeladen hast. Hier findest du eine .yml-Datei, mit der du die nötigen Pakete in eine Umgebung `fossgis_pyhelios_env.yml` laden kannst.\n",
    "\n",
    "`conda env create -f fossgis_pyhelios_env.yml`"
   ]
  },
  {
   "cell_type": "markdown",
   "id": "92988985",
   "metadata": {},
   "source": [
    "## Conda-Umgebung aktivieren"
   ]
  },
  {
   "cell_type": "markdown",
   "id": "6491ae67",
   "metadata": {
    "slideshow": {
     "slide_type": "fragment"
    }
   },
   "source": [
    "Nun musst du die Umgebung noch aktivieren:\n",
    "\n",
    "`conda activate fossgis_pyhelios_env`\n",
    "\n",
    "Wir nutzen im Notebook extensions. Damit diese vollständig installiert werden, führe folgenden Befehl aus:\n",
    "\n",
    "`jupyter contrib nbextension install --user`"
   ]
  },
  {
   "cell_type": "markdown",
   "id": "01228d33",
   "metadata": {
    "slideshow": {
     "slide_type": "slide"
    }
   },
   "source": [
    "## Installationen testen"
   ]
  },
  {
   "cell_type": "markdown",
   "id": "a8ed8089",
   "metadata": {
    "slideshow": {
     "slide_type": "fragment"
    }
   },
   "source": [
    "In der neuen Umgebung in deiner Anaconda prompt, navigiere in den Ordner `example_notebooks` in deinem entpackten `helios`-Verzeichnis. \n",
    "\n",
    "`cd <Dateipfad-zum-Speicherort>/helios/example_notebooks`"
   ]
  },
  {
   "cell_type": "markdown",
   "id": "39377c06",
   "metadata": {
    "slideshow": {
     "slide_type": "fragment"
    }
   },
   "source": [
    "Starte hier Jupyter Notebook, indem du folgenden Befehl ausführst:\n",
    "\n",
    "`jupyter notebook`"
   ]
  },
  {
   "cell_type": "markdown",
   "id": "c7f54efe",
   "metadata": {
    "slideshow": {
     "slide_type": "fragment"
    }
   },
   "source": [
    "Öffne das Notebook `test_install.ipynb`.\n",
    "\n",
    "Führe das Notebook aus, um zu testen, ob alle Installationen erfolgreich waren."
   ]
  },
  {
   "cell_type": "markdown",
   "id": "ebe648b3",
   "metadata": {
    "slideshow": {
     "slide_type": "slide"
    }
   },
   "source": [
    "## Kontakt\n",
    "\n",
    "Wenn etwas nicht funktioniert hat, kontaktiere mich per E-Mail: [h.weiser@uni-heidelberg.de]([h.weiser@uni-heidelberg.de)"
   ]
  },
  {
   "cell_type": "markdown",
   "id": "561d7f25",
   "metadata": {
    "slideshow": {
     "slide_type": "slide"
    }
   },
   "source": [
    "## Mehr Informationen\n",
    "\n",
    "- [Website](https://www.geog.uni-heidelberg.de/gis/helios.html)\n",
    "- [GitHub Repository](https://github.com/3dgeo-heidelberg/helios)\n",
    "- [Publikation](https://doi.org/10.1016/j.rse.2021.112772)"
   ]
  }
 ],
 "metadata": {
  "celltoolbar": "Slideshow",
  "kernelspec": {
   "display_name": "Python 3",
   "language": "python",
   "name": "python3"
  },
  "language_info": {
   "codemirror_mode": {
    "name": "ipython",
    "version": 3
   },
   "file_extension": ".py",
   "mimetype": "text/x-python",
   "name": "python",
   "nbconvert_exporter": "python",
   "pygments_lexer": "ipython3",
   "version": "3.8.5"
  }
 },
 "nbformat": 4,
 "nbformat_minor": 5
}
