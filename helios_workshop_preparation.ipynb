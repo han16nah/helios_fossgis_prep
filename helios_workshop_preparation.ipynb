{
 "cells": [
  {
   "cell_type": "markdown",
   "id": "86071709",
   "metadata": {
    "slideshow": {
     "slide_type": "slide"
    }
   },
   "source": [
    "# HELIOS++ Workshop Vorbereitung\n",
    "\n",
    "- Drücke `Leertaste` oder nach `Rechts` um zur nächsten Seite zu gelangen\n",
    "- Drücke `Escape` zum Verkleinern"
   ]
  },
  {
   "cell_type": "markdown",
   "id": "53a8f402",
   "metadata": {
    "slideshow": {
     "slide_type": "slide"
    }
   },
   "source": [
    "## HELIOS++ herunterladen\n"
   ]
  },
  {
   "cell_type": "markdown",
   "id": "c790d04a",
   "metadata": {
    "slideshow": {
     "slide_type": "fragment"
    }
   },
   "source": [
    "Wir haben eine extra Release für die FOSSGIS vorbereitet. Wähle unten den Download Link für dein Betriebssystem.\n",
    "\n",
    "- [HELIOS++ für Windows]()\n",
    "- [HELIOS++ f+r Linux]()"
   ]
  },
  {
   "cell_type": "markdown",
   "id": "1924d929",
   "metadata": {
    "slideshow": {
     "slide_type": "fragment"
    }
   },
   "source": [
    "Entpacke den Ordner."
   ]
  },
  {
   "cell_type": "markdown",
   "id": "03a3ccf7",
   "metadata": {
    "slideshow": {
     "slide_type": "slide"
    }
   },
   "source": [
    "## Conda-Umgebung aufsetzen\n"
   ]
  },
  {
   "cell_type": "markdown",
   "id": "ba52338b",
   "metadata": {
    "slideshow": {
     "slide_type": "fragment"
    }
   },
   "source": [
    "Wir nutzen Anaconda, um Pakete zu installieren und Umgebungen zu verwalten. Wenn du bisher noch nicht mit Anaconda gearbeitet hast, lade Anaconda herunter:\n",
    "\n",
    "- (Anaconda Individual Edition)[https://www.anaconda.com/products/individual]"
   ]
  },
  {
   "cell_type": "markdown",
   "id": "dc2af2b8",
   "metadata": {
    "slideshow": {
     "slide_type": "fragment"
    }
   },
   "source": [
    "Öffne nun eine neue \"Anaconda prompt\". Navigiere in den `helios`-Ordner, den du vorher heruntergeladen hast. Hier findest du eine .yml-Datei, mit der du die nötigen Pakete in eine Umgebung `fossgis_pyhelios_env.yml` laden kannst.\n",
    "\n",
    "`conda env create -f fossgis_pyhelios_env.yml`"
   ]
  },
  {
   "cell_type": "markdown",
   "id": "f940771e",
   "metadata": {
    "slideshow": {
     "slide_type": "fragment"
    }
   },
   "source": [
    "Nun musst du die Umgebung noch aktivieren:\n",
    "\n",
    "`conda activate fossgis_pyhelios_env`"
   ]
  },
  {
   "cell_type": "markdown",
   "id": "52d21b19",
   "metadata": {
    "slideshow": {
     "slide_type": "slide"
    }
   },
   "source": [
    "## Installationen testen"
   ]
  },
  {
   "cell_type": "markdown",
   "id": "8891dd76",
   "metadata": {
    "slideshow": {
     "slide_type": "fragment"
    }
   },
   "source": [
    "In der neuen Umgebung in deiner Anaconda prompt, navigiere in den Ordner `example_notebooks` in deinem entpackten `helios`-Verzeichnis. \n",
    "\n",
    "`cd <Dateipfad-zum-Speicherort>/helios/example_notebooks`"
   ]
  },
  {
   "cell_type": "markdown",
   "id": "36de7276",
   "metadata": {
    "slideshow": {
     "slide_type": "fragment"
    }
   },
   "source": [
    "Starte hier Jupyter Notebook, indem du folgenden Befehl ausführst:\n",
    "\n",
    "`jupyter notebook`"
   ]
  },
  {
   "cell_type": "markdown",
   "id": "3092a173",
   "metadata": {
    "slideshow": {
     "slide_type": "fragment"
    }
   },
   "source": [
    "Öffne das Notebook `test_install.ipynb`.\n",
    "\n",
    "Führe das Notebook aus, um zu testen, ob alle Installationen erfolgreich waren."
   ]
  },
  {
   "cell_type": "markdown",
   "id": "8c812057",
   "metadata": {
    "slideshow": {
     "slide_type": "slide"
    }
   },
   "source": [
    "## Kontakt\n",
    "\n",
    "Wenn etwas nicht funktioniert hat, kontaktiere mich per E-Mail: h.weiser@uni-heidelberg.de"
   ]
  },
  {
   "cell_type": "markdown",
   "id": "17614c6f",
   "metadata": {
    "slideshow": {
     "slide_type": "slide"
    }
   },
   "source": [
    "## Mehr Informationen\n",
    "\n",
    "- [Website](https://www.geog.uni-heidelberg.de/gis/helios.html)\n",
    "- [GitHub Repository](https://github.com/3dgeo-heidelberg/helios)\n",
    "- [Publikation](https://doi.org/10.1016/j.rse.2021.112772)"
   ]
  }
 ],
 "metadata": {
  "celltoolbar": "Slideshow",
  "kernelspec": {
   "display_name": "Python 3",
   "language": "python",
   "name": "python3"
  },
  "language_info": {
   "codemirror_mode": {
    "name": "ipython",
    "version": 3
   },
   "file_extension": ".py",
   "mimetype": "text/x-python",
   "name": "python",
   "nbconvert_exporter": "python",
   "pygments_lexer": "ipython3",
   "version": "3.8.5"
  }
 },
 "nbformat": 4,
 "nbformat_minor": 5
}
