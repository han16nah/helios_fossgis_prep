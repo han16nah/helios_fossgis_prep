{
 "cells": [
  {
   "cell_type": "markdown",
   "id": "5a784900",
   "metadata": {
    "slideshow": {
     "slide_type": "slide"
    }
   },
   "source": [
    "# HELIOS++ Workshop Vorbereitung\n",
    "\n",
    "- Drücke `Leertaste` oder nach `Rechts` um zur nächsten Seite zu gelangen\n",
    "- Drücke `Escape` zum Verkleinern"
   ]
  },
  {
   "attachments": {
    "h_bk_s.png": {
     "image/png": "[encoded data removed]"
    }
   },
   "cell_type": "markdown",
   "id": "490f9ea7",
   "metadata": {
    "slideshow": {
     "slide_type": "slide"
    }
   },
   "source": [
    "## HELIOS++ herunterladen\n",
    "\n",
    "![h_bk_s.png](attachment:h_bk_s.png)"
   ]
  },
  {
   "cell_type": "markdown",
   "id": "2baf7e32",
   "metadata": {
    "slideshow": {
     "slide_type": "fragment"
    }
   },
   "source": [
    "Wir haben eine extra Release für die FOSSGIS vorbereitet. Wähle unten den Download Link für dein Betriebssystem.\n",
    "\n",
    "- [HELIOS++ für Windows](https://heibox.uni-heidelberg.de/f/8466a6c6947848e48e09/?dl=1)\n",
    "- [HELIOS++ für Linux](https://heibox.uni-heidelberg.de/f/492b70a676f341e89271/?dl=1)"
   ]
  },
  {
   "cell_type": "markdown",
   "id": "44036d75",
   "metadata": {
    "slideshow": {
     "slide_type": "fragment"
    }
   },
   "source": [
    "Entpacke den Ordner."
   ]
  },
  {
   "cell_type": "markdown",
   "id": "2c9472ce",
   "metadata": {
    "slideshow": {
     "slide_type": "slide"
    }
   },
   "source": [
    "## Conda-Umgebung aufsetzen\n"
   ]
  },
  {
   "cell_type": "markdown",
   "id": "8802c865",
   "metadata": {
    "slideshow": {
     "slide_type": "fragment"
    }
   },
   "source": [
    "Wir nutzen Anaconda, um Pakete zu installieren und Umgebungen zu verwalten. Wenn du bisher noch nicht mit Anaconda gearbeitet hast, lade Anaconda herunter:\n",
    "\n",
    "- <a href=\"https://www.anaconda.com/products/individual\" target=\"_blank\">Anaconda Individual Edition</a>"
   ]
  },
  {
   "cell_type": "markdown",
   "id": "5333c114",
   "metadata": {
    "slideshow": {
     "slide_type": "fragment"
    }
   },
   "source": [
    "Öffne nun eine neue \"Anaconda prompt\". Navigiere in den `helios`-Ordner, den du vorher heruntergeladen hast. Hier findest du eine .yml-Datei, mit der du die nötigen Pakete in eine Umgebung `fossgis_pyhelios_env.yml` laden kannst.\n",
    "\n",
    "`conda env create -f fossgis_pyhelios_env.yml`"
   ]
  },
  {
   "cell_type": "markdown",
   "id": "374b6ad5",
   "metadata": {
    "slideshow": {
     "slide_type": "slide"
    }
   },
   "source": [
    "## Conda-Umgebung aktivieren"
   ]
  },
  {
   "cell_type": "markdown",
   "id": "7aa4d827",
   "metadata": {
    "slideshow": {
     "slide_type": "fragment"
    }
   },
   "source": [
    "Nun musst du die Umgebung noch aktivieren:\n",
    "\n",
    "`conda activate fossgis_pyhelios_env`\n",
    "\n",
    "Wir nutzen außerdem eine Erweiterung für Jupyter Notebook. Um diese zu installieren, führe folgenden Befehl aus:\n",
    "\n",
    "`conda install -c conda-forge jupyter_contrib_nbextensions`\n",
    "\n",
    "or alternatively with pip: `pip install jupyter_contrib_nbextensions`\n",
    "\n",
    "And then:\n",
    "\n",
    "`jupyter contrib nbextension install --user`"
   ]
  },
  {
   "cell_type": "markdown",
   "id": "ad8cc922",
   "metadata": {
    "slideshow": {
     "slide_type": "slide"
    }
   },
   "source": [
    "### Für Linux-User"
   ]
  },
  {
   "cell_type": "markdown",
   "id": "945fda32",
   "metadata": {
    "slideshow": {
     "slide_type": "fragment"
    }
   },
   "source": [
    "**Diese Folie ist nur relevant für Linux-User**\n",
    "\n",
    "Navigiere in das `helios`-Verzeichnis und führe im Terminal das Shell-Skript `heliosShell.sh` aus, um die Umgebungsvariable `LD_LIBRARY_PATH` zu setzen:\n",
    "    \n",
    "`. ./heliosShell.sh`\n",
    "\n",
    "Die Umgebungsvariable muss in jeder Sitzung neu gesetzt werden. "
   ]
  },
  {
   "cell_type": "markdown",
   "id": "5a4e517b",
   "metadata": {
    "slideshow": {
     "slide_type": "slide"
    }
   },
   "source": [
    "## Installationen testen"
   ]
  },
  {
   "cell_type": "markdown",
   "id": "63612b9c",
   "metadata": {
    "slideshow": {
     "slide_type": "fragment"
    }
   },
   "source": [
    "In der neuen Umgebung in deiner Anaconda prompt, navigiere in den Ordner `example_notebooks` in deinem entpackten `helios`-Verzeichnis. \n",
    "\n",
    "`cd <Dateipfad-zum-Speicherort>/helios/example_notebooks`"
   ]
  },
  {
   "cell_type": "markdown",
   "id": "050174e4",
   "metadata": {
    "slideshow": {
     "slide_type": "fragment"
    }
   },
   "source": [
    "Starte hier Jupyter Notebook, indem du folgenden Befehl ausführst:\n",
    "\n",
    "`jupyter notebook`"
   ]
  },
  {
   "cell_type": "markdown",
   "id": "43960868",
   "metadata": {
    "slideshow": {
     "slide_type": "fragment"
    }
   },
   "source": [
    "Öffne das Notebook `test_install.ipynb`.\n",
    "\n",
    "Gehe das Notebook durch, um zu testen, ob alle Installationen erfolgreich waren."
   ]
  },
  {
   "cell_type": "markdown",
   "id": "38cd9745",
   "metadata": {
    "slideshow": {
     "slide_type": "slide"
    }
   },
   "source": [
    "## Troubleshooting (1/2)\n",
    "\n",
    "In Linux könnt ihr auf folgenden Fehler stoßen, wenn ihr HELIOS++ mit `run/helios` ausführen wollt: \n",
    "\n",
    "```\n",
    "run/helios: error while loading shared libraries: libarmadillo.so.10: cannot open shared object file: No such file or directory\n",
    "```\n",
    "\n",
    "Dann müsst ihr vermutlich die Umgebungsvariable `LD_LIBRARY_PATH` setzen. Führt dazu das Bash-Skript im `helios`-Verzeichnis aus:\n",
    "\n",
    "`. ./heliosShell.sh`\n",
    "\n",
    "Die Umgebungsvariable ist nur für die aktuelle Sitzung gesetzt, in einem neuen Terminal oder nach einem Reboot muss sie erneut gesetzt werden."
   ]
  },
  {
   "cell_type": "markdown",
   "id": "f7554c7b",
   "metadata": {
    "slideshow": {
     "slide_type": "subslide"
    }
   },
   "source": [
    "## Troubleshooting (2/2)\n",
    "\n",
    "Eine andere mögliche Fehlermeldung auf Linux ist:\n",
    "```\n",
    "run/helios: error while loading shared libraries: libopenblas.so.0: cannot open shared object file: No such file or directory\n",
    "```\n",
    "Statt `libopenblas.so.0` kann es sich auch um eine andere Bibliothek handeln, die nicht im `run`-Ordner liegt.\n",
    "\n",
    "Um den Fehler zu beheben, könnt ihr die fehlende Bibliothek installieren, z.B.:\n",
    "\n",
    "`sudo apt-get install libopenblas0`"
   ]
  },
  {
   "cell_type": "markdown",
   "id": "55d81220",
   "metadata": {
    "slideshow": {
     "slide_type": "slide"
    }
   },
   "source": [
    "## Kontakt\n",
    "\n",
    "Wenn etwas nicht funktioniert hat, kontaktiere mich per E-Mail:\n",
    "\n",
    "[h.weiser@uni-heidelberg.de]([h.weiser@uni-heidelberg.de)"
   ]
  },
  {
   "cell_type": "markdown",
   "id": "f6acec8f",
   "metadata": {
    "slideshow": {
     "slide_type": "slide"
    }
   },
   "source": [
    "## Mehr Informationen\n",
    "\n",
    "- [Website](https://www.geog.uni-heidelberg.de/gis/helios.html)\n",
    "- [GitHub Repository](https://github.com/3dgeo-heidelberg/helios)\n",
    "- [HELIOS++ Wiki](https://github.com/3dgeo-heidelberg/helios/wiki)\n",
    "- [BUILD-Anleitung](https://github.com/3dgeo-heidelberg/helios/blob/a122d6d7e8cafa70781681e7d8f895dff9add439/BUILDME.md)\n",
    "- [Publikation](https://doi.org/10.1016/j.rse.2021.112772)"
   ]
  }
 ],
 "metadata": {
  "celltoolbar": "Slideshow",
  "kernelspec": {
   "display_name": "Python 3",
   "language": "python",
   "name": "python3"
  },
  "language_info": {
   "codemirror_mode": {
    "name": "ipython",
    "version": 3
   },
   "file_extension": ".py",
   "mimetype": "text/x-python",
   "name": "python",
   "nbconvert_exporter": "python",
   "pygments_lexer": "ipython3",
   "version": "3.8.5"
  }
 },
 "nbformat": 4,
 "nbformat_minor": 5
}
